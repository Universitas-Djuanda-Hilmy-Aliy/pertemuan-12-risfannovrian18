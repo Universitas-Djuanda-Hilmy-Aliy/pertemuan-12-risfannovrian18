{
 "cells": [
  {
   "cell_type": "markdown",
   "id": "d3fd1a52",
   "metadata": {},
   "source": [
    "# Pre- Trained Model\n",
    "\n",
    "Menggunakan model yang sudah terlatih"
   ]
  },
  {
   "cell_type": "code",
   "execution_count": 1,
   "id": "a9aedbda",
   "metadata": {},
   "outputs": [],
   "source": [
    "import matplotlib.pyplot as plt\n",
    "from tensorflow.keras.datasets import fashion_mnist\n",
    "(train_images, train_labels), (test_images, test_labels) = fashion_mnist.load_data()"
   ]
  },
  {
   "cell_type": "code",
   "execution_count": 2,
   "id": "85db44c0",
   "metadata": {},
   "outputs": [],
   "source": [
    "train_images = train_images.reshape((60000,28 * 28))\n",
    "train_images = train_images.astype(\"float32\") / 255\n",
    "\n",
    "test_images = test_images.reshape((10000,28 * 28))\n",
    "test_images = test_images.astype(\"float32\") / 255"
   ]
  },
  {
   "cell_type": "code",
   "execution_count": 3,
   "id": "55e98289",
   "metadata": {},
   "outputs": [],
   "source": [
    "from tensorflow.keras.models import load_model"
   ]
  },
  {
   "cell_type": "code",
   "execution_count": 4,
   "id": "58ede01d",
   "metadata": {},
   "outputs": [],
   "source": [
    "pretrained_model = load_model('model_risfan.h5')"
   ]
  },
  {
   "cell_type": "code",
   "execution_count": 5,
   "id": "7eb236c8",
   "metadata": {},
   "outputs": [],
   "source": [
    "import numpy as np"
   ]
  },
  {
   "cell_type": "code",
   "execution_count": 6,
   "id": "14b7cd79",
   "metadata": {},
   "outputs": [
    {
     "name": "stdout",
     "output_type": "stream",
     "text": [
      "akurasi hasil data test:0.87\n"
     ]
    }
   ],
   "source": [
    "prediksi = pretrained_model(test_images)\n",
    "prediksi = prediksi.numpy() #supaya hasilnya array\n",
    "prediksi_label = np.argmax(prediksi, axis=1)\n",
    "prediksi_betul = prediksi_label == test_labels\n",
    "print(f\"akurasi hasil data test:{prediksi_betul.mean():.2f}\")"
   ]
  },
  {
   "cell_type": "markdown",
   "id": "6752021d",
   "metadata": {},
   "source": [
    "## Underfitting\n",
    "\n",
    "Definisi : situasi dimana model tidak dapat menangkap pola yang cukup dalam proses training<br>\n",
    "\n",
    "Penyebabnya :\n",
    "1. Modelnya terlalu sederhana\n",
    "2. Data training terbatas\n",
    "3. Proses training tidak cukup\n",
    "4. Parameter training tidak sesuai"
   ]
  },
  {
   "cell_type": "markdown",
   "id": "184756d4",
   "metadata": {},
   "source": [
    "Cara Mengatasi :\n",
    "1. Meningkatkan kompleksitas model\n",
    "2. Datanya lebih banyak dan representatif\n",
    "3. Menyesuaikan parameter"
   ]
  },
  {
   "cell_type": "code",
   "execution_count": 7,
   "id": "30873eb3",
   "metadata": {},
   "outputs": [],
   "source": [
    "#Arsitektur Modelnya\n",
    "import tensorflow as tf\n",
    "import numpy as np\n",
    "\n",
    "model_kedua = tf.keras.Sequential([\n",
    "    tf.keras.layers.Dense(10, activation = 'relu')\n",
    "])"
   ]
  },
  {
   "cell_type": "code",
   "execution_count": 8,
   "id": "0d0e444d",
   "metadata": {},
   "outputs": [],
   "source": [
    "model_kedua.compile(optimizer = 'rmsprop', loss='sparse_categorical_crossentropy', metrics=['accuracy'])"
   ]
  },
  {
   "cell_type": "code",
   "execution_count": 9,
   "id": "85af0512",
   "metadata": {},
   "outputs": [
    {
     "name": "stdout",
     "output_type": "stream",
     "text": [
      "Epoch 1/2\n",
      "477/477 [==============================] - 2s 4ms/step - loss: 2.3136 - accuracy: 0.1651\n",
      "Epoch 2/2\n",
      "477/477 [==============================] - 1s 3ms/step - loss: 2.2258 - accuracy: 0.1347\n"
     ]
    },
    {
     "data": {
      "text/plain": [
       "<keras.src.callbacks.History at 0x1e5b55a30d0>"
      ]
     },
     "execution_count": 9,
     "metadata": {},
     "output_type": "execute_result"
    }
   ],
   "source": [
    "model_kedua.fit(train_images, train_labels, epochs=2, batch_size=126)"
   ]
  },
  {
   "cell_type": "markdown",
   "id": "e38d94c1",
   "metadata": {},
   "source": [
    "# Learning Rate\n",
    "\n",
    "merupakan parameter penting dalam proses training, Learning rate merupakan nilai yang menentukan seberapa besar penyesuaian yang dilakukan pada bobot(weight) model pada setiap proses training<br>\n",
    "\n",
    "Learning rate mengontrol seberapa cepat atau lambat model untuk belajar.\n",
    "jika nilai learning rate tinggi, dapat menyebabkan model cepat belajar, tapi beresiko melewatkan kesalahan.\n",
    "jika learning ratenya rendah, maka model akan belajar lebih hati-hati, tetapi proses pembelajaran menjadi lebih lambat."
   ]
  },
  {
   "cell_type": "code",
   "execution_count": 10,
   "id": "142cb932",
   "metadata": {},
   "outputs": [],
   "source": [
    "#Arsitektur Modelnya\n",
    "import tensorflow as tf\n",
    "import numpy as np\n",
    "\n",
    "model_kedua = tf.keras.Sequential([\n",
    "    tf.keras.layers.Dense(512, activation = 'relu'),\n",
    "    tf.keras.layers.Dropout(0.5),\n",
    "    tf.keras.layers.Dense(256, activation = 'relu'), #semakin banyak dense angkanya semakin keci 'dibagi2'\n",
    "    tf.keras.layers.Dropout(0.5),\n",
    "    tf.keras.layers.Dense(128, activation = 'relu'),\n",
    "    tf.keras.layers.Dense(64, activation =  'relu'),\n",
    "    tf.keras.layers.Dense(32, activation = 'relu'),\n",
    "    tf.keras.layers.Dense(10, activation = 'sigmoid')\n",
    "])"
   ]
  },
  {
   "cell_type": "code",
   "execution_count": 11,
   "id": "d4a73818",
   "metadata": {},
   "outputs": [],
   "source": [
    "learning_rate1 = 0.001"
   ]
  },
  {
   "cell_type": "code",
   "execution_count": 12,
   "id": "3a6c76d0",
   "metadata": {},
   "outputs": [],
   "source": [
    "model_kedua.compile(optimizer = tf.keras.optimizers.RMSprop(learning_rate = learning_rate1), loss='sparse_categorical_crossentropy', metrics=['accuracy'])"
   ]
  },
  {
   "cell_type": "code",
   "execution_count": 13,
   "id": "a7a475a7",
   "metadata": {},
   "outputs": [
    {
     "name": "stdout",
     "output_type": "stream",
     "text": [
      "Epoch 1/10\n",
      "235/235 [==============================] - 5s 16ms/step - loss: 0.7916 - accuracy: 0.7064\n",
      "Epoch 2/10\n",
      "235/235 [==============================] - 4s 16ms/step - loss: 0.5123 - accuracy: 0.8146\n",
      "Epoch 3/10\n",
      "235/235 [==============================] - 4s 15ms/step - loss: 0.4572 - accuracy: 0.8344\n",
      "Epoch 4/10\n",
      "235/235 [==============================] - 4s 17ms/step - loss: 0.4311 - accuracy: 0.8431\n",
      "Epoch 5/10\n",
      "235/235 [==============================] - 4s 18ms/step - loss: 0.4100 - accuracy: 0.8526\n",
      "Epoch 6/10\n",
      "235/235 [==============================] - 4s 16ms/step - loss: 0.3915 - accuracy: 0.8573\n",
      "Epoch 7/10\n",
      "235/235 [==============================] - 4s 16ms/step - loss: 0.3832 - accuracy: 0.8612\n",
      "Epoch 8/10\n",
      "235/235 [==============================] - 4s 16ms/step - loss: 0.3693 - accuracy: 0.8651\n",
      "Epoch 9/10\n",
      "235/235 [==============================] - 4s 16ms/step - loss: 0.3606 - accuracy: 0.8695\n",
      "Epoch 10/10\n",
      "235/235 [==============================] - 4s 16ms/step - loss: 0.3561 - accuracy: 0.8717\n"
     ]
    },
    {
     "data": {
      "text/plain": [
       "<keras.src.callbacks.History at 0x1e5b881b710>"
      ]
     },
     "execution_count": 13,
     "metadata": {},
     "output_type": "execute_result"
    }
   ],
   "source": [
    "model_kedua.fit(train_images, train_labels, epochs=10, batch_size=256)"
   ]
  },
  {
   "cell_type": "code",
   "execution_count": null,
   "id": "93f715cb",
   "metadata": {},
   "outputs": [],
   "source": []
  }
 ],
 "metadata": {
  "kernelspec": {
   "display_name": "Python 3 (ipykernel)",
   "language": "python",
   "name": "python3"
  },
  "language_info": {
   "codemirror_mode": {
    "name": "ipython",
    "version": 3
   },
   "file_extension": ".py",
   "mimetype": "text/x-python",
   "name": "python",
   "nbconvert_exporter": "python",
   "pygments_lexer": "ipython3",
   "version": "3.11.4"
  }
 },
 "nbformat": 4,
 "nbformat_minor": 5
}
